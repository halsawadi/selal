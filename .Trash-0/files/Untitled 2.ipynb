{
 "cells": [
  {
   "cell_type": "code",
   "execution_count": 2,
   "id": "85ef7cba-93b4-4168-91f8-8f738b5fcbaf",
   "metadata": {},
   "outputs": [],
   "source": [
    "%load_ext autoreload\n",
    "%autoreload 2"
   ]
  },
  {
   "cell_type": "code",
   "execution_count": 4,
   "id": "2c1e2bba-c65b-4072-8587-c00e4000880f",
   "metadata": {},
   "outputs": [],
   "source": [
    "from src.test import dummy_function"
   ]
  },
  {
   "cell_type": "code",
   "execution_count": 6,
   "id": "3ac467c3-a788-441b-b061-bdbca9f0414d",
   "metadata": {},
   "outputs": [
    {
     "data": {
      "text/plain": [
       "'Hello Hassan'"
      ]
     },
     "execution_count": 6,
     "metadata": {},
     "output_type": "execute_result"
    }
   ],
   "source": [
    "dummy_function('Hassan')"
   ]
  },
  {
   "cell_type": "code",
   "execution_count": null,
   "id": "93e82a2b-6216-4e51-997b-efd56b487a65",
   "metadata": {},
   "outputs": [],
   "source": []
  }
 ],
 "metadata": {
  "kernelspec": {
   "display_name": "Python 3 (ipykernel)",
   "language": "python",
   "name": "python3"
  },
  "language_info": {
   "codemirror_mode": {
    "name": "ipython",
    "version": 3
   },
   "file_extension": ".py",
   "mimetype": "text/x-python",
   "name": "python",
   "nbconvert_exporter": "python",
   "pygments_lexer": "ipython3",
   "version": "3.9.19"
  }
 },
 "nbformat": 4,
 "nbformat_minor": 5
}
