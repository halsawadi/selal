{
 "cells": [
  {
   "cell_type": "code",
   "execution_count": 1,
   "id": "bacbbeb5-3420-486f-8b32-51913ac64841",
   "metadata": {},
   "outputs": [],
   "source": [
    "import sys\n",
    "sys.path.append('../src')\n",
    "\n",
    "%load_ext autoreload\n",
    "%autoreload 2"
   ]
  },
  {
   "cell_type": "code",
   "execution_count": 25,
   "id": "484acbf4-b1a9-42d2-a925-caa94934c4ee",
   "metadata": {},
   "outputs": [],
   "source": [
    "from model import ContentBasedFiltering"
   ]
  },
  {
   "cell_type": "code",
   "execution_count": 32,
   "id": "537efa8d-1eac-43fc-af8f-21ab33127bbd",
   "metadata": {},
   "outputs": [
    {
     "data": {
      "text/plain": [
       "<200325x37629 sparse matrix of type '<class 'numpy.float64'>'\n",
       "\twith 4187509 stored elements in Compressed Sparse Row format>"
      ]
     },
     "execution_count": 32,
     "metadata": {},
     "output_type": "execute_result"
    }
   ],
   "source": [
    "recommender = ContentBasedFiltering()\n",
    "recommender.embeddings"
   ]
  },
  {
   "cell_type": "code",
   "execution_count": 17,
   "id": "19eba5b8-3926-4059-b08e-11b308abb5d1",
   "metadata": {},
   "outputs": [
    {
     "data": {
      "text/plain": [
       "[379, 126, 491, 274, 130, 1862, 218, 709, 1290, 565]"
      ]
     },
     "execution_count": 17,
     "metadata": {},
     "output_type": "execute_result"
    }
   ],
   "source": [
    "recommender.most_popular_products[:10]"
   ]
  },
  {
   "cell_type": "code",
   "execution_count": 18,
   "id": "75b12408-7191-4c84-b919-9414ed44583b",
   "metadata": {},
   "outputs": [
    {
     "data": {
      "text/plain": [
       "25379"
      ]
     },
     "execution_count": 18,
     "metadata": {},
     "output_type": "execute_result"
    }
   ],
   "source": [
    "recommender.dict_product_to_embedding_ids[12]"
   ]
  },
  {
   "cell_type": "code",
   "execution_count": 29,
   "id": "cf9486b3-74aa-4a02-a3b7-dbcc82686de5",
   "metadata": {},
   "outputs": [
    {
     "data": {
      "text/plain": [
       "[2, 49, 57, 147, 156, 203, 212, 219, 226, 229]"
      ]
     },
     "execution_count": 29,
     "metadata": {},
     "output_type": "execute_result"
    }
   ],
   "source": [
    "list(recommender.dict_customer_product_ids.keys())[:10]"
   ]
  },
  {
   "cell_type": "code",
   "execution_count": 47,
   "id": "1014d5c2-61cb-4afd-b374-651b7818cfe2",
   "metadata": {},
   "outputs": [
    {
     "data": {
      "text/plain": [
       "{48450: [(47887, 0.881633476007284),\n",
       "  (162412, 0.7238824995625708),\n",
       "  (32421, 0.686854648700372),\n",
       "  (65977, 0.6320798609320488),\n",
       "  (5189, 0.616219081288591),\n",
       "  (23306, 0.6033806938143264)]}"
      ]
     },
     "execution_count": 47,
     "metadata": {},
     "output_type": "execute_result"
    }
   ],
   "source": [
    "recommender.recommend_by_product(219)"
   ]
  },
  {
   "cell_type": "code",
   "execution_count": 51,
   "id": "1ffa0811-cf7f-4ccb-a51b-5bae8abe79c9",
   "metadata": {},
   "outputs": [
    {
     "data": {
      "text/plain": [
       "[47887,\n",
       " 162412,\n",
       " 32421,\n",
       " 65977,\n",
       " 5189,\n",
       " 23306,\n",
       " 379,\n",
       " 126,\n",
       " 491,\n",
       " 274,\n",
       " 130,\n",
       " 1862,\n",
       " 218,\n",
       " 709,\n",
       " 1290,\n",
       " 565,\n",
       " 1304,\n",
       " 789,\n",
       " 362,\n",
       " 406]"
      ]
     },
     "execution_count": 51,
     "metadata": {},
     "output_type": "execute_result"
    }
   ],
   "source": [
    "recommender.recommend(219)"
   ]
  },
  {
   "cell_type": "code",
   "execution_count": null,
   "id": "4e5cad52-e9de-4c22-84fe-09f9a3994ab2",
   "metadata": {},
   "outputs": [],
   "source": []
  }
 ],
 "metadata": {
  "kernelspec": {
   "display_name": "Python 3 (ipykernel)",
   "language": "python",
   "name": "python3"
  },
  "language_info": {
   "codemirror_mode": {
    "name": "ipython",
    "version": 3
   },
   "file_extension": ".py",
   "mimetype": "text/x-python",
   "name": "python",
   "nbconvert_exporter": "python",
   "pygments_lexer": "ipython3",
   "version": "3.9.19"
  }
 },
 "nbformat": 4,
 "nbformat_minor": 5
}
